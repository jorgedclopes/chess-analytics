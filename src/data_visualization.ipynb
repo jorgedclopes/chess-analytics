{
 "cells": [
  {
   "cell_type": "code",
   "execution_count": 1,
   "metadata": {},
   "outputs": [
    {
     "name": "stdout",
     "output_type": "stream",
     "text": [
      "Working dir: /home/jorge/GIT/chess-analytics\n"
     ]
    }
   ],
   "source": [
    "import lichess.api\n",
    "from pprint import pprint\n",
    "from datetime import datetime\n",
    "import os\n",
    "\n",
    "import matplotlib.pyplot as plt\n",
    "from matplotlib.ticker import FormatStrFormatter\n",
    "\n",
    "# working dir should be chessanalytics/src when the notebook starts\n",
    "while(not os.getcwd().endswith('chess-analytics')):\n",
    "    os.chdir('..')\n",
    "print('Working dir: ' + os.getcwd())\n",
    "\n",
    "name = 'carequinha'\n",
    "user = lichess.api.user(name)"
   ]
  },
  {
   "cell_type": "code",
   "execution_count": 2,
   "metadata": {},
   "outputs": [],
   "source": [
    "# %reload_ext autoreload\n",
    "# %autoreload 2"
   ]
  },
  {
   "cell_type": "code",
   "execution_count": 3,
   "metadata": {},
   "outputs": [],
   "source": [
    "from src.game import ChessGame\n",
    "from src.get_games import download_games\n",
    "# download_games('carequinha',\n",
    "#                         is_rated=True)\n",
    "# download games if they don't exist\n",
    "# games = load_games('resources/PGN_database')\n",
    "games = ChessGame.load_pgn_file('src/resources/carequinha.pgn')"
   ]
  },
  {
   "cell_type": "code",
   "execution_count": 4,
   "metadata": {},
   "outputs": [
    {
     "name": "stdout",
     "output_type": "stream",
     "text": [
      "6376\n",
      "Standard game between carequinha (1877) and mattaiah (1712).\n",
      "This game's time control was 180+0 was played in 2019.07.19. The result was 0-1.\n",
      "The oppening code is D10 and the game had a length of 48 moves.\n",
      "0-1\n",
      "LOSS\n",
      "['carequinha', 'mattaiah']\n",
      "['d4', 'd5', 'c4', 'dxc4', 'Nc3', 'c6', 'a4', 'e5', 'dxe5', 'Qxd1+', 'Kxd1', 'a6', 'e4', 'Be6', 'Nf3', 'Nd7', 'Ng5', 'Nxe5', 'Nxe6', 'fxe6', 'f4', 'Ng4', 'Ke1', 'Bb4', 'Bxc4', 'Bxc3+', 'bxc3', 'N8f6', 'h3', 'Nh6', 'e5', 'Ne4', 'Bb2', 'O-O-O', 'Bxe6+', 'Kb8', 'g4', 'Rd3', 'Ba3', 'Rhd8', 'Be7', 'Re3+', 'Kf1', 'Rd2', 'Bd6+', 'Ka8', 'Rg1', 'Rf2#']\n",
      "['d4', 'c4', 'Nc3', 'a4', 'dxe5', 'Kxd1', 'e4', 'Nf3', 'Ng5', 'Nxe6', 'f4', 'Ke1', 'Bxc4', 'bxc3', 'h3', 'e5', 'Bb2', 'Bxe6+', 'g4', 'Ba3', 'Be7', 'Kf1', 'Bd6+', 'Rg1']\n",
      "[180.0, 180.0, 180.0, 179.0, 178.0, 178.0, 177.0, 175.0, 174.0, 173.0, 174.0, 167.0, 168.0, 164.0, 166.0, 159.0, 163.0, 155.0, 162.0, 154.0, 161.0, 148.0, 160.0, 135.0, 158.0, 132.0, 157.0, 126.0, 148.0, 114.0, 133.0, 113.0, 128.0, 110.0, 126.0, 108.0, 119.0, 95.0, 109.0, 92.0, 98.0, 90.0, 96.0, 87.0, 86.0, 82.0, 81.0, 78.0]\n"
     ]
    }
   ],
   "source": [
    "i=5000\n",
    "print(len(games))\n",
    "\n",
    "print(games[i].__str__())\n",
    "print(games[i].result)\n",
    "print(games[i].get_result(name))\n",
    "print(list(map(lambda value: value.name, games[i].players.values())))\n",
    "\n",
    "a = games[i].moves\n",
    "\n",
    "print(a)\n",
    "print(a[0::2])\n",
    "print(games[i].clocks)"
   ]
  },
  {
   "cell_type": "code",
   "execution_count": null,
   "metadata": {},
   "outputs": [],
   "source": [
    "hours = list(map(lambda game: game.utctime.split(':')[0], games))\n",
    "data_list = list(map(lambda s: int(s), hours))\n",
    "list_set = set(data_list)\n",
    "list_set.add(max(list_set)+1)\n",
    "plt.hist(data_list, bins = list(list_set), edgecolor='blue')\n",
    "plt.show()"
   ]
  },
  {
   "cell_type": "code",
   "execution_count": 93,
   "metadata": {},
   "outputs": [
    {
     "data": {
      "image/png": "[encoded data removed]",
      "text/plain": [
       "<Figure size 576x432 with 1 Axes>"
      ]
     },
     "metadata": {
      "needs_background": "light"
     },
     "output_type": "display_data"
    }
   ],
   "source": [
    "def get_result_list(game_list):\n",
    "    list_result = list(map(lambda game: game.get_result(name), game_list))\n",
    "    return {el: list_result.count(el) for el in set(list_result)}\n",
    "\n",
    "def parse_time(game):\n",
    "    year = game.date.split('.')[0]\n",
    "    month = game.date.split('.')[1]\n",
    "    return int(year) + int(month)/12\n",
    "\n",
    "def plot_histogram(data_list, bin_list = None, color = 'green'):\n",
    "    if bin_list == None:\n",
    "        bin_list = list(set(data_list))\n",
    "        bin_list.sort()\n",
    "        bin_list.append(2*bin_list[-1] - bin_list[-2])\n",
    "    vertical_lines = set([int(i) for i in bin_list])\n",
    "    plt.hist(data_list, bins = bin_list, edgecolor='blue', color=color)\n",
    "    for line in vertical_lines:\n",
    "        plt.axvline(x=line, color='green')\n",
    "    return None\n",
    "\n",
    "def accummulator_list(base_list):\n",
    "    accum_list = []\n",
    "    partial_list = []\n",
    "    for l in data_list:\n",
    "        accum_list = accum_list + l\n",
    "    partial_list.append(accum_list)\n",
    "    return partial_list\n",
    "    \n",
    "results = ['WIN','DRAW','LOSS']\n",
    "colors = ['green','orange','red']\n",
    "\n",
    "split_game_list = [list(filter(lambda game: game.get_result(name) == el, games)) for el in results]\n",
    "data_list = list(map(lambda game_list: list(map(lambda game: parse_time(game),game_list)),split_game_list))\n",
    "\n",
    "data = accummulator_list(data_list)\n",
    "\n",
    "grouped_plot_properties = [[x,y] for x,y in zip(partial_list, colors)]\n",
    "grouped_plot_properties.reverse()\n",
    "\n",
    "plt.figure(figsize=(8,6))\n",
    "for data, color in grouped_plot_properties:\n",
    "    plot_histogram(data, bin_list = None, color = color)\n",
    "plt.show()"
   ]
  },
  {
   "cell_type": "code",
   "execution_count": 169,
   "metadata": {},
   "outputs": [
    {
     "name": "stdout",
     "output_type": "stream",
     "text": [
      "{'WIN': {2020.3333333333333: 41, 2020.4166666666667: 58, 2020.5: 50, 2020.5833333333333: 64, 2020.6666666666667: 49, 2020.75: 5, 2020.8333333333333: 32, 2020.9166666666667: 42, 2016.9166666666667: 10, 2017.0833333333333: 81, 2017.1666666666667: 58, 2017.25: 99, 2017.5: 70, 2017.5833333333333: 96, 2017.6666666666667: 73, 2017.75: 99, 2017.4166666666667: 69, 2017.3333333333333: 33, 2017.8333333333333: 78, 2018.0833333333333: 97, 2018.1666666666667: 47, 2018.25: 89, 2018.3333333333333: 46, 2018.4166666666667: 41, 2019.0833333333333: 37, 2019.1666666666667: 12, 2019.25: 29, 2019.3333333333333: 42, 2019.4166666666667: 108, 2020.0: 37, 2020.0833333333333: 14, 2017.9166666666667: 96, 2020.1666666666667: 2, 2020.25: 8, 2018.5: 41, 2018.5833333333333: 50, 2018.6666666666667: 64, 2018.75: 67, 2018.8333333333333: 90, 2018.9166666666667: 69, 2016.0833333333333: 11, 2016.1666666666667: 13, 2016.25: 15, 2016.4166666666667: 5, 2016.3333333333333: 25, 2016.5: 39, 2016.5833333333333: 10, 2016.6666666666667: 50, 2016.75: 37, 2016.8333333333333: 128, 2017.0: 77, 2018.0: 71, 2019.0: 51, 2019.5: 101, 2019.5833333333333: 134, 2019.6666666666667: 77, 2019.75: 88, 2019.8333333333333: 41, 2019.9166666666667: 69}, 'DRAW': {2020.4166666666667: 6, 2020.5: 7, 2020.5833333333333: 6, 2020.6666666666667: 9, 2020.8333333333333: 4, 2020.9166666666667: 2, 2017.25: 13, 2017.3333333333333: 3, 2017.4166666666667: 5, 2017.5: 6, 2017.75: 11, 2017.8333333333333: 10, 2017.9166666666667: 9, 2017.6666666666667: 14, 2017.5833333333333: 6, 2018.0833333333333: 5, 2018.1666666666667: 5, 2018.25: 7, 2018.3333333333333: 10, 2018.4166666666667: 5, 2018.5833333333333: 6, 2019.0833333333333: 2, 2019.1666666666667: 3, 2019.25: 4, 2019.3333333333333: 3, 2019.4166666666667: 6, 2020.0: 2, 2020.0833333333333: 2, 2020.1666666666667: 1, 2020.25: 1, 2020.3333333333333: 3, 2018.5: 1, 2018.6666666666667: 7, 2018.75: 7, 2018.8333333333333: 9, 2018.9166666666667: 7, 2016.0833333333333: 2, 2016.3333333333333: 1, 2016.5: 6, 2016.6666666666667: 6, 2016.5833333333333: 2, 2016.75: 7, 2016.8333333333333: 15, 2016.9166666666667: 3, 2017.0: 4, 2017.0833333333333: 3, 2017.1666666666667: 10, 2018.0: 8, 2019.0: 5, 2019.5: 4, 2019.5833333333333: 5, 2019.6666666666667: 13, 2019.75: 18, 2019.8333333333333: 3, 2019.9166666666667: 3}, 'LOSS': {2020.3333333333333: 45, 2020.4166666666667: 34, 2020.5: 52, 2020.5833333333333: 62, 2020.6666666666667: 40, 2020.75: 1, 2020.8333333333333: 42, 2020.9166666666667: 34, 2016.9166666666667: 6, 2017.0833333333333: 61, 2017.1666666666667: 48, 2017.25: 87, 2017.5: 56, 2017.5833333333333: 76, 2017.6666666666667: 75, 2017.75: 82, 2017.4166666666667: 59, 2017.3333333333333: 20, 2017.8333333333333: 66, 2018.0833333333333: 79, 2018.1666666666667: 51, 2018.25: 72, 2018.3333333333333: 40, 2018.4166666666667: 31, 2019.0833333333333: 28, 2019.1666666666667: 21, 2019.25: 23, 2019.3333333333333: 42, 2019.4166666666667: 94, 2020.0: 36, 2020.0833333333333: 10, 2017.9166666666667: 67, 2020.1666666666667: 2, 2020.25: 9, 2018.5: 42, 2018.5833333333333: 53, 2018.6666666666667: 64, 2018.75: 54, 2018.8333333333333: 78, 2018.9166666666667: 58, 2016.0833333333333: 4, 2016.5: 29, 2016.1666666666667: 8, 2016.25: 15, 2016.3333333333333: 13, 2016.4166666666667: 2, 2016.5833333333333: 8, 2016.6666666666667: 30, 2016.75: 19, 2016.8333333333333: 122, 2017.0: 65, 2018.0: 70, 2019.0: 47, 2019.5: 96, 2019.5833333333333: 120, 2019.6666666666667: 70, 2019.75: 90, 2019.8333333333333: 43, 2019.9166666666667: 65}}\n",
      "{2020.3333333333333: 41, 2020.4166666666667: 58, 2020.5: 50, 2020.5833333333333: 64, 2020.6666666666667: 49, 2020.75: 5, 2020.8333333333333: 32, 2020.9166666666667: 42, 2016.9166666666667: 10, 2017.0833333333333: 81, 2017.1666666666667: 58, 2017.25: 99, 2017.5: 70, 2017.5833333333333: 96, 2017.6666666666667: 73, 2017.75: 99, 2017.4166666666667: 69, 2017.3333333333333: 33, 2017.8333333333333: 78, 2018.0833333333333: 97, 2018.1666666666667: 47, 2018.25: 89, 2018.3333333333333: 46, 2018.4166666666667: 41, 2019.0833333333333: 37, 2019.1666666666667: 12, 2019.25: 29, 2019.3333333333333: 42, 2019.4166666666667: 108, 2020.0: 37, 2020.0833333333333: 14, 2017.9166666666667: 96, 2020.1666666666667: 2, 2020.25: 8, 2018.5: 41, 2018.5833333333333: 50, 2018.6666666666667: 64, 2018.75: 67, 2018.8333333333333: 90, 2018.9166666666667: 69, 2016.0833333333333: 11, 2016.1666666666667: 13, 2016.25: 15, 2016.4166666666667: 5, 2016.3333333333333: 25, 2016.5: 39, 2016.5833333333333: 10, 2016.6666666666667: 50, 2016.75: 37, 2016.8333333333333: 128, 2017.0: 77, 2018.0: 71, 2019.0: 51, 2019.5: 101, 2019.5833333333333: 134, 2019.6666666666667: 77, 2019.75: 88, 2019.8333333333333: 41, 2019.9166666666667: 69}\n"
     ]
    },
    {
     "ename": "ValueError",
     "evalue": "could not convert string to float: 'W'",
     "output_type": "error",
     "traceback": [
      "\u001b[0;31m---------------------------------------------------------------------------\u001b[0m",
      "\u001b[0;31mValueError\u001b[0m                                Traceback (most recent call last)",
      "\u001b[0;32m<ipython-input-169-585c74538423>\u001b[0m in \u001b[0;36m<module>\u001b[0;34m\u001b[0m\n\u001b[1;32m     25\u001b[0m \u001b[0mtotals\u001b[0m \u001b[0;34m=\u001b[0m \u001b[0mlist\u001b[0m\u001b[0;34m(\u001b[0m\u001b[0mreduce\u001b[0m\u001b[0;34m(\u001b[0m\u001b[0;32mlambda\u001b[0m \u001b[0mlist_a\u001b[0m\u001b[0;34m,\u001b[0m\u001b[0mlist_b\u001b[0m \u001b[0;34m:\u001b[0m \u001b[0;34m[\u001b[0m\u001b[0mx\u001b[0m\u001b[0;34m+\u001b[0m\u001b[0my\u001b[0m \u001b[0;32mfor\u001b[0m \u001b[0mx\u001b[0m\u001b[0;34m,\u001b[0m\u001b[0my\u001b[0m \u001b[0;32min\u001b[0m \u001b[0mzip\u001b[0m\u001b[0;34m(\u001b[0m\u001b[0mlist_a\u001b[0m\u001b[0;34m,\u001b[0m\u001b[0mlist_b\u001b[0m\u001b[0;34m)\u001b[0m\u001b[0;34m]\u001b[0m \u001b[0;34m,\u001b[0m\u001b[0mgame_counts_list\u001b[0m\u001b[0;34m)\u001b[0m\u001b[0;34m)\u001b[0m\u001b[0;34m\u001b[0m\u001b[0;34m\u001b[0m\u001b[0m\n\u001b[1;32m     26\u001b[0m \u001b[0;34m\u001b[0m\u001b[0m\n\u001b[0;32m---> 27\u001b[0;31m \u001b[0mgame_proportion_list\u001b[0m \u001b[0;34m=\u001b[0m \u001b[0;34m[\u001b[0m\u001b[0mproportion\u001b[0m\u001b[0;34m(\u001b[0m\u001b[0ml\u001b[0m\u001b[0;34m,\u001b[0m \u001b[0mtotals\u001b[0m\u001b[0;34m)\u001b[0m \u001b[0;32mfor\u001b[0m \u001b[0ml\u001b[0m \u001b[0;32min\u001b[0m \u001b[0mgame_counts_list\u001b[0m\u001b[0;34m]\u001b[0m\u001b[0;34m\u001b[0m\u001b[0;34m\u001b[0m\u001b[0m\n\u001b[0m\u001b[1;32m     28\u001b[0m \u001b[0mx_data_list\u001b[0m \u001b[0;34m=\u001b[0m \u001b[0mlist\u001b[0m\u001b[0;34m(\u001b[0m\u001b[0mset\u001b[0m\u001b[0;34m(\u001b[0m\u001b[0;34m[\u001b[0m\u001b[0mparse_time\u001b[0m\u001b[0;34m(\u001b[0m\u001b[0mel\u001b[0m\u001b[0;34m)\u001b[0m \u001b[0;32mfor\u001b[0m \u001b[0mel\u001b[0m \u001b[0;32min\u001b[0m \u001b[0ml\u001b[0m\u001b[0;34m]\u001b[0m\u001b[0;34m)\u001b[0m \u001b[0;32mfor\u001b[0m \u001b[0;34m(\u001b[0m\u001b[0mk\u001b[0m\u001b[0;34m,\u001b[0m\u001b[0ml\u001b[0m\u001b[0;34m)\u001b[0m \u001b[0;32min\u001b[0m \u001b[0msplit_game_list\u001b[0m\u001b[0;34m.\u001b[0m\u001b[0mitems\u001b[0m\u001b[0;34m(\u001b[0m\u001b[0;34m)\u001b[0m\u001b[0;34m)\u001b[0m\u001b[0;34m\u001b[0m\u001b[0;34m\u001b[0m\u001b[0m\n\u001b[1;32m     29\u001b[0m \u001b[0;31m#print(game_proportion_list)\u001b[0m\u001b[0;34m\u001b[0m\u001b[0;34m\u001b[0m\u001b[0;34m\u001b[0m\u001b[0m\n",
      "\u001b[0;32m<ipython-input-169-585c74538423>\u001b[0m in \u001b[0;36m<listcomp>\u001b[0;34m(.0)\u001b[0m\n\u001b[1;32m     25\u001b[0m \u001b[0mtotals\u001b[0m \u001b[0;34m=\u001b[0m \u001b[0mlist\u001b[0m\u001b[0;34m(\u001b[0m\u001b[0mreduce\u001b[0m\u001b[0;34m(\u001b[0m\u001b[0;32mlambda\u001b[0m \u001b[0mlist_a\u001b[0m\u001b[0;34m,\u001b[0m\u001b[0mlist_b\u001b[0m \u001b[0;34m:\u001b[0m \u001b[0;34m[\u001b[0m\u001b[0mx\u001b[0m\u001b[0;34m+\u001b[0m\u001b[0my\u001b[0m \u001b[0;32mfor\u001b[0m \u001b[0mx\u001b[0m\u001b[0;34m,\u001b[0m\u001b[0my\u001b[0m \u001b[0;32min\u001b[0m \u001b[0mzip\u001b[0m\u001b[0;34m(\u001b[0m\u001b[0mlist_a\u001b[0m\u001b[0;34m,\u001b[0m\u001b[0mlist_b\u001b[0m\u001b[0;34m)\u001b[0m\u001b[0;34m]\u001b[0m \u001b[0;34m,\u001b[0m\u001b[0mgame_counts_list\u001b[0m\u001b[0;34m)\u001b[0m\u001b[0;34m)\u001b[0m\u001b[0;34m\u001b[0m\u001b[0;34m\u001b[0m\u001b[0m\n\u001b[1;32m     26\u001b[0m \u001b[0;34m\u001b[0m\u001b[0m\n\u001b[0;32m---> 27\u001b[0;31m \u001b[0mgame_proportion_list\u001b[0m \u001b[0;34m=\u001b[0m \u001b[0;34m[\u001b[0m\u001b[0mproportion\u001b[0m\u001b[0;34m(\u001b[0m\u001b[0ml\u001b[0m\u001b[0;34m,\u001b[0m \u001b[0mtotals\u001b[0m\u001b[0;34m)\u001b[0m \u001b[0;32mfor\u001b[0m \u001b[0ml\u001b[0m \u001b[0;32min\u001b[0m \u001b[0mgame_counts_list\u001b[0m\u001b[0;34m]\u001b[0m\u001b[0;34m\u001b[0m\u001b[0;34m\u001b[0m\u001b[0m\n\u001b[0m\u001b[1;32m     28\u001b[0m \u001b[0mx_data_list\u001b[0m \u001b[0;34m=\u001b[0m \u001b[0mlist\u001b[0m\u001b[0;34m(\u001b[0m\u001b[0mset\u001b[0m\u001b[0;34m(\u001b[0m\u001b[0;34m[\u001b[0m\u001b[0mparse_time\u001b[0m\u001b[0;34m(\u001b[0m\u001b[0mel\u001b[0m\u001b[0;34m)\u001b[0m \u001b[0;32mfor\u001b[0m \u001b[0mel\u001b[0m \u001b[0;32min\u001b[0m \u001b[0ml\u001b[0m\u001b[0;34m]\u001b[0m\u001b[0;34m)\u001b[0m \u001b[0;32mfor\u001b[0m \u001b[0;34m(\u001b[0m\u001b[0mk\u001b[0m\u001b[0;34m,\u001b[0m\u001b[0ml\u001b[0m\u001b[0;34m)\u001b[0m \u001b[0;32min\u001b[0m \u001b[0msplit_game_list\u001b[0m\u001b[0;34m.\u001b[0m\u001b[0mitems\u001b[0m\u001b[0;34m(\u001b[0m\u001b[0;34m)\u001b[0m\u001b[0;34m)\u001b[0m\u001b[0;34m\u001b[0m\u001b[0;34m\u001b[0m\u001b[0m\n\u001b[1;32m     29\u001b[0m \u001b[0;31m#print(game_proportion_list)\u001b[0m\u001b[0;34m\u001b[0m\u001b[0;34m\u001b[0m\u001b[0;34m\u001b[0m\u001b[0m\n",
      "\u001b[0;32m<ipython-input-169-585c74538423>\u001b[0m in \u001b[0;36mproportion\u001b[0;34m(a_list, b_list)\u001b[0m\n\u001b[1;32m     10\u001b[0m \u001b[0;34m\u001b[0m\u001b[0m\n\u001b[1;32m     11\u001b[0m \u001b[0;32mdef\u001b[0m \u001b[0mproportion\u001b[0m\u001b[0;34m(\u001b[0m\u001b[0ma_list\u001b[0m\u001b[0;34m,\u001b[0m \u001b[0mb_list\u001b[0m\u001b[0;34m)\u001b[0m\u001b[0;34m:\u001b[0m\u001b[0;34m\u001b[0m\u001b[0;34m\u001b[0m\u001b[0m\n\u001b[0;32m---> 12\u001b[0;31m     \u001b[0;32mreturn\u001b[0m \u001b[0;34m[\u001b[0m\u001b[0mfloat\u001b[0m\u001b[0;34m(\u001b[0m\u001b[0mx\u001b[0m\u001b[0;34m)\u001b[0m\u001b[0;34m/\u001b[0m\u001b[0mfloat\u001b[0m\u001b[0;34m(\u001b[0m\u001b[0my\u001b[0m\u001b[0;34m)\u001b[0m \u001b[0;32mfor\u001b[0m \u001b[0mx\u001b[0m\u001b[0;34m,\u001b[0m\u001b[0my\u001b[0m \u001b[0;32min\u001b[0m \u001b[0mzip\u001b[0m\u001b[0;34m(\u001b[0m\u001b[0ma_list\u001b[0m\u001b[0;34m,\u001b[0m\u001b[0mb_list\u001b[0m\u001b[0;34m)\u001b[0m\u001b[0;34m]\u001b[0m\u001b[0;34m\u001b[0m\u001b[0;34m\u001b[0m\u001b[0m\n\u001b[0m\u001b[1;32m     13\u001b[0m \u001b[0;34m\u001b[0m\u001b[0m\n\u001b[1;32m     14\u001b[0m \u001b[0;32mdef\u001b[0m \u001b[0mmerge_dict\u001b[0m\u001b[0;34m(\u001b[0m\u001b[0mpattern\u001b[0m\u001b[0;34m,\u001b[0m \u001b[0mdict1\u001b[0m\u001b[0;34m,\u001b[0m \u001b[0mdict2\u001b[0m\u001b[0;34m)\u001b[0m\u001b[0;34m:\u001b[0m\u001b[0;34m\u001b[0m\u001b[0;34m\u001b[0m\u001b[0m\n",
      "\u001b[0;32m<ipython-input-169-585c74538423>\u001b[0m in \u001b[0;36m<listcomp>\u001b[0;34m(.0)\u001b[0m\n\u001b[1;32m     10\u001b[0m \u001b[0;34m\u001b[0m\u001b[0m\n\u001b[1;32m     11\u001b[0m \u001b[0;32mdef\u001b[0m \u001b[0mproportion\u001b[0m\u001b[0;34m(\u001b[0m\u001b[0ma_list\u001b[0m\u001b[0;34m,\u001b[0m \u001b[0mb_list\u001b[0m\u001b[0;34m)\u001b[0m\u001b[0;34m:\u001b[0m\u001b[0;34m\u001b[0m\u001b[0;34m\u001b[0m\u001b[0m\n\u001b[0;32m---> 12\u001b[0;31m     \u001b[0;32mreturn\u001b[0m \u001b[0;34m[\u001b[0m\u001b[0mfloat\u001b[0m\u001b[0;34m(\u001b[0m\u001b[0mx\u001b[0m\u001b[0;34m)\u001b[0m\u001b[0;34m/\u001b[0m\u001b[0mfloat\u001b[0m\u001b[0;34m(\u001b[0m\u001b[0my\u001b[0m\u001b[0;34m)\u001b[0m \u001b[0;32mfor\u001b[0m \u001b[0mx\u001b[0m\u001b[0;34m,\u001b[0m\u001b[0my\u001b[0m \u001b[0;32min\u001b[0m \u001b[0mzip\u001b[0m\u001b[0;34m(\u001b[0m\u001b[0ma_list\u001b[0m\u001b[0;34m,\u001b[0m\u001b[0mb_list\u001b[0m\u001b[0;34m)\u001b[0m\u001b[0;34m]\u001b[0m\u001b[0;34m\u001b[0m\u001b[0;34m\u001b[0m\u001b[0m\n\u001b[0m\u001b[1;32m     13\u001b[0m \u001b[0;34m\u001b[0m\u001b[0m\n\u001b[1;32m     14\u001b[0m \u001b[0;32mdef\u001b[0m \u001b[0mmerge_dict\u001b[0m\u001b[0;34m(\u001b[0m\u001b[0mpattern\u001b[0m\u001b[0;34m,\u001b[0m \u001b[0mdict1\u001b[0m\u001b[0;34m,\u001b[0m \u001b[0mdict2\u001b[0m\u001b[0;34m)\u001b[0m\u001b[0;34m:\u001b[0m\u001b[0;34m\u001b[0m\u001b[0;34m\u001b[0m\u001b[0m\n",
      "\u001b[0;31mValueError\u001b[0m: could not convert string to float: 'W'"
     ]
    }
   ],
   "source": [
    "from functools import reduce\n",
    "def split_list(pattern, base_list):\n",
    "    values = set([pattern(el) for el in base_list])\n",
    "    return [[y for y in base_list if pattern(y) == x]for x in values]\n",
    "\n",
    "def count(pattern, base_list):\n",
    "    splited_list = split_list((lambda game: pattern(game)), base_list)\n",
    "    return {pattern(sublist[0]): len(sublist) for sublist in splited_list}\n",
    "\n",
    "def proportion(a_list, b_list):\n",
    "    return [float(x)/float(y) for x,y in zip(a_list,b_list)]\n",
    "\n",
    "def merge_dict(pattern, dict1, dict2):\n",
    "    dict3 = {**dict1, **dict2}\n",
    "    for k, v in dict3.items():\n",
    "        if k in dict1 and k in dict2:\n",
    "            dict3[k] = pattern(dict1[k], dict2[k])\n",
    "            \n",
    "split_game_list = {el: list(filter(lambda game: game.get_result(name) == el, games)) for el in results}\n",
    "game_counts_list = {k: count(parse_time, l) for (k,l) in split_game_list.items()}\n",
    "\n",
    "print(game_counts_list)\n",
    "print(game_counts_list['WIN'])\n",
    "totals = list(reduce(lambda list_a,list_b : [x+y for x,y in zip(list_a,list_b)] ,game_counts_list))\n",
    "\n",
    "game_proportion_list = [proportion(l, totals) for l in game_counts_list]\n",
    "x_data_list = list(set([parse_time(el) for el in l]) for (k,l) in split_game_list.items())\n",
    "#print(game_proportion_list)\n",
    "#total_split_count = count(parse_time, games)\n",
    "#split_win_count = count(parse_time, list_won_games)\n",
    "#split_windraw_count = count(parse_time, list_wondraw_games)\n",
    "\n",
    "#total_proportion_list = proportion(split_count,split_count)\n",
    "#win_proportion_list = proportion(split_win_count,split_count)\n",
    "#windraw_proportion_list = proportion(split_windraw_count,split_count)\n",
    "print(len(x_data_list))\n",
    "for i in range(len(x_data_list)):\n",
    "    print(\"game_list length: \", len(game_proportion_list[i]))\n",
    "    print(\"x_data length: \", len(x_data_list[i]))\n",
    "plt.figure(figsize=(8,6))\n",
    "for lst, x_el in zip(game_proportion_list,x_data_list):\n",
    "    plt.bar(list(x_el), lst, width=1/12, color = 'red')\n",
    "#plt.bar(x_data, game_proportion_list[0], width=1/12, color = 'red')\n",
    "#plt.bar(x_data, windraw_proportion_list, width=1/12, color = 'orange')\n",
    "#plt.bar(x_data, win_proportion_list, width=1/12, color = 'green')\n",
    "plt.axhline(y=0.5, color='blue')\n",
    "plt.show()"
   ]
  },
  {
   "cell_type": "code",
   "execution_count": null,
   "metadata": {},
   "outputs": [],
   "source": [
    "import chess\n",
    "def print_board_at_move(move_list,\n",
    "                        move_num: int,\n",
    "                        player: str):\n",
    "#move_list = (games[1]['moves'].split())\n",
    "#move_num = 2\n",
    "#player = 'black'#'white'\n",
    "    board = chess.Board()\n",
    "    board.reset()\n",
    "    if player is 'white' or player is 'w':\n",
    "        player_move = 0\n",
    "    elif player is 'black' or player is 'b':\n",
    "        player_move = 1\n",
    "    else:\n",
    "        raise Exception('No proper input for player.')\n",
    "    for index in range(2*(move_num-1) + player_move):\n",
    "        move = move_list.pop(0)\n",
    "        board.push_san(move)\n",
    "    return board"
   ]
  },
  {
   "cell_type": "code",
   "execution_count": null,
   "metadata": {},
   "outputs": [],
   "source": [
    "board = print_board_at_move(move_list = (games[0].moves), move_num = 1, player = 'b')\n",
    "board"
   ]
  },
  {
   "cell_type": "code",
   "execution_count": null,
   "metadata": {},
   "outputs": [],
   "source": [
    "from matplotlib.pyplot import plot\n",
    "plot([0,1],[0,2])\n",
    "print(len(games))"
   ]
  },
  {
   "cell_type": "code",
   "execution_count": null,
   "metadata": {},
   "outputs": [],
   "source": []
  }
 ],
 "metadata": {
  "kernelspec": {
   "display_name": "Python 3",
   "language": "python",
   "name": "python3"
  },
  "language_info": {
   "codemirror_mode": {
    "name": "ipython",
    "version": 3
   },
   "file_extension": ".py",
   "mimetype": "text/x-python",
   "name": "python",
   "nbconvert_exporter": "python",
   "pygments_lexer": "ipython3",
   "version": "3.6.9"
  }
 },
 "nbformat": 4,
 "nbformat_minor": 4
}
