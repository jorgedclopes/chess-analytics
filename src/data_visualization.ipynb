{
 "cells": [
  {
   "cell_type": "code",
   "execution_count": null,
   "metadata": {},
   "outputs": [],
   "source": [
    "import lichess.api\n",
    "from pprint import pprint\n",
    "from datetime import datetime\n",
    "import os\n",
    "\n",
    "import matplotlib.pyplot as plt\n",
    "from matplotlib.ticker import FormatStrFormatter\n",
    "\n",
    "# working dir should be chessanalytics/src when the notebook starts\n",
    "while(not os.getcwd().endswith('chess-analytics')):\n",
    "    os.chdir('..')\n",
    "print('Working dir: ', os.getcwd())\n",
    "\n",
    "name = 'carequinha'\n",
    "user = lichess.api.user(name)"
   ]
  },
  {
   "cell_type": "code",
   "execution_count": null,
   "metadata": {},
   "outputs": [],
   "source": [
    "# %reload_ext autoreload\n",
    "# %autoreload 2"
   ]
  },
  {
   "cell_type": "code",
   "execution_count": null,
   "metadata": {},
   "outputs": [],
   "source": [
    "from src.game import ChessGame\n",
    "from src.get_games import download_games\n",
    "# download_games('carequinha',\n",
    "#                         is_rated=True)\n",
    "# download games if they don't exist\n",
    "# games = load_games('resources/PGN_database')\n",
    "games = ChessGame.load_pgn_file('src/resources/'+ name +'.pgn')"
   ]
  },
  {
   "cell_type": "code",
   "execution_count": null,
   "metadata": {},
   "outputs": [],
   "source": [
    "i=-200\n",
    "print(len(games))\n",
    "\n",
    "print(games[i].__str__())\n",
    "print(games[i].result)\n",
    "print(games[i].get_result(name))\n",
    "print(list(map(lambda value: value.name, games[i].players.values())))\n",
    "\n",
    "a = games[i].moves\n",
    "\n",
    "print(a)\n",
    "print(a[0::2])\n",
    "print(games[i].clocks)"
   ]
  },
  {
   "cell_type": "code",
   "execution_count": null,
   "metadata": {},
   "outputs": [],
   "source": [
    "hours = list(map(lambda game: game.utctime.split(':')[0], games))\n",
    "data_list = list(map(lambda s: int(s), hours))\n",
    "list_set = set(data_list)\n",
    "list_set.add(max(list_set)+1)\n",
    "plt.hist(data_list, bins = list(list_set), edgecolor='blue')\n",
    "plt.show()"
   ]
  },
  {
   "cell_type": "code",
   "execution_count": null,
   "metadata": {},
   "outputs": [],
   "source": [
    "def get_result_list(game_list):\n",
    "    list_result = list(map(lambda game: game.get_result(name), game_list))\n",
    "    return {el: list_result.count(el) for el in set(list_result)}\n",
    "\n",
    "def parse_time(game):\n",
    "    year = game.date.split('.')[0]\n",
    "    month = game.date.split('.')[1]\n",
    "    return float(year) + float(month)/12 - 1/12"
   ]
  },
  {
   "cell_type": "code",
   "execution_count": null,
   "metadata": {},
   "outputs": [],
   "source": [
    "dates = list(map(lambda game: parse_time(game), games))\n",
    "bins = list(set(dates))\n",
    "bins.sort()\n",
    "bins.append(2*bins[-1] - bins[-2])\n",
    "plt.figure(figsize=(8,6))\n",
    "plt.hist(dates, bins = bins, edgecolor='blue')\n",
    "plt.show()"
   ]
  },
  {
   "cell_type": "code",
   "execution_count": null,
   "metadata": {},
   "outputs": [],
   "source": [
    "from functools import reduce\n",
    "def split_list(pattern, base_list):\n",
    "    values = set([pattern(el) for el in base_list])\n",
    "    return [[y for y in base_list if pattern(y) == x]for x in values]\n",
    "\n",
    "def count(pattern, base_list):\n",
    "    splited_list = split_list((lambda game: pattern(game)), base_list)\n",
    "    return {pattern(sublist[0]): len(sublist) for sublist in splited_list}\n",
    "\n",
    "def proportion(a_dict, b_dict):\n",
    "    div = lambda x,y: float(x)/float(y)\n",
    "    return merge_dict(div, a_dict, b_dict, lambda x:0)\n",
    "\n",
    "def merge_dict(pattern, dict1, dict2, exception_pattern = lambda x:x):\n",
    "    dict3 = {**dict1, **dict2}\n",
    "    for k, v in dict3.items():\n",
    "        if k in dict1 and k in dict2:\n",
    "            dict3[k] = pattern(dict1[k], dict2[k])\n",
    "        else:\n",
    "            dict3[k] = exception_pattern(dict3[k])\n",
    "    return dict3\n",
    "\n",
    "results = ['WIN','DRAW','LOSS']\n",
    "colors = {'WIN':'green','DRAW': 'orange','LOSS': 'red'}\n",
    "\n",
    "split_game_dict = {el: list(filter(lambda game: game.get_result(name) == el, games)) for el in results}\n",
    "game_counts_dict = {k: count(parse_time, v) for (k,v) in split_game_dict.items()}\n",
    "key_set = set().union(*(counts.keys() for counts in game_counts_dict.values()))\n",
    "base_dict = dict.fromkeys(key_set, 0)\n",
    "game_counts_dict = {k: merge_dict(lambda x,y: x+y, base_dict, counts) for k,counts in game_counts_dict.items()}\n",
    "\n",
    "\n",
    "\n",
    "sum = lambda a,b: a+b\n",
    "totals = dict(reduce(lambda dict_a, dict_b : merge_dict(sum, dict_a, dict_b) , list(game_counts_dict.values())))\n",
    "\n",
    "game_proportion_dict = {k: proportion(v, totals) for k,v in game_counts_dict.items()}\n",
    "\n",
    "plt.figure(figsize=(8,6))\n",
    "\n",
    "bot = [0]*len(game_counts_dict['WIN'])\n",
    "for r, p in game_counts_dict.items():\n",
    "    pairs = sorted(p.items())\n",
    "    x = [v[0] for v in pairs]\n",
    "    top = [v[1] for v in pairs]\n",
    "\n",
    "    plt.bar(x, top, width=1/12, bottom = bot, edgecolor='blue',color = colors[r], align = 'edge')\n",
    "    bot = [sum(a,b) for a,b in zip(bot,top)]\n",
    "\n",
    "v_lines = list(set([int(v) for v in list(base_dict.keys())]))\n",
    "v_lines.append(2*v_lines[-1] - v_lines[-2])\n",
    "for line in v_lines:\n",
    "    plt.axvline(line, color = 'darkcyan')\n",
    "plt.show()"
   ]
  },
  {
   "cell_type": "code",
   "execution_count": null,
   "metadata": {},
   "outputs": [],
   "source": [
    "import chess\n",
    "def print_board_at_move(move_list,\n",
    "                        move_num: int,\n",
    "                        player: str):\n",
    "#move_list = (games[1]['moves'].split())\n",
    "#move_num = 2\n",
    "#player = 'black'#'white'\n",
    "    board = chess.Board()\n",
    "    board.reset()\n",
    "    if player is 'white' or player is 'w':\n",
    "        player_move = 0\n",
    "    elif player is 'black' or player is 'b':\n",
    "        player_move = 1\n",
    "    else:\n",
    "        raise Exception('No proper input for player.')\n",
    "    for index in range(2*(move_num-1) + player_move):\n",
    "        move = move_list.pop(0)\n",
    "        board.push_san(move)\n",
    "    return board"
   ]
  },
  {
   "cell_type": "code",
   "execution_count": null,
   "metadata": {},
   "outputs": [],
   "source": [
    "board = print_board_at_move(move_list = (games[0].moves), move_num = 1, player = 'b')\n",
    "board"
   ]
  },
  {
   "cell_type": "code",
   "execution_count": null,
   "metadata": {},
   "outputs": [],
   "source": [
    "from matplotlib.pyplot import plot\n",
    "plot([0,1],[0,2])\n",
    "print(len(games))"
   ]
  },
  {
   "cell_type": "code",
   "execution_count": null,
   "metadata": {},
   "outputs": [],
   "source": [
    "def get_month_year(game):\n",
    "    year = game.date.split('.')[0]\n",
    "    month = game.date.split('.')[1]\n",
    "    return np.datetime64(year+'-'+format(int(month), '02d'))\n",
    "\n",
    "import datetime\n",
    "import calendar\n",
    "\n",
    "def add_months(sourcedate, months = 1):\n",
    "    month = sourcedate.astype(object).month -1 + months\n",
    "    year = sourcedate.astype(object).year + month // 12\n",
    "    month = month%12 + 1\n",
    "    return np.datetime64(str(year)+'-'+format(month, '02d'))\n",
    "\n",
    "def dict_to_list(d):\n",
    "    dictlist = []\n",
    "    for k, v in d.items():\n",
    "        temp = [k,v]\n",
    "        dictlist.append(temp)\n",
    "    dictlist.sort(key=lambda x: x[0])\n",
    "    return dictlist\n",
    "\n",
    "alt_date = add_months(np.datetime64('2020-01-01'),1)\n",
    "print(alt_date)\n",
    "\n",
    "di = {1: 3, -1: 0}\n",
    "print(dict_to_list(di))"
   ]
  },
  {
   "cell_type": "code",
   "execution_count": null,
   "metadata": {},
   "outputs": [],
   "source": [
    "import numpy as np\n",
    "\n",
    "# games_counts_dict(games, results)\n",
    "results = ['WIN','DRAW','LOSS']\n",
    "split_game_dict = {el: list(filter(lambda game: game.get_result(name) == el, games)) for el in results}\n",
    "game_counts_dict = {k: count(get_month_year, v) for (k,v) in split_game_dict.items()}\n",
    "key_set = set().union(*(counts.keys() for counts in game_counts_dict.values()))\n",
    "base_dict = dict.fromkeys(key_set, 0)\n",
    "game_counts_dict = {k: merge_dict(lambda x,y: x+y, base_dict, counts) for k,counts in game_counts_dict.items()}\n",
    "#game_results = np.array([[game.date, game.get_result(name)] for game in games],\n",
    "#                        dtype=[('DATE','datetime64[M]'),('RESULTS', 'S4')])\n",
    "#counts()\n",
    "#print(game_results[2])\n",
    "\n",
    "#arr = np.zeros()\n",
    "#[game for game in games]\n",
    "#print(game_counts_dict['WIN'])\n",
    "#month = np.timedelta64(1,'M')\n",
    "\n",
    "x = np.zeros(len(game_counts_dict['WIN']),\n",
    "             dtype=[('DATE', 'datetime64[M]'), ('WIN', 'u4'), ('DRAW', 'u4'), ('LOSS', 'u4')])\n",
    "x['DATE'] = np.arange(np.datetime64(min(game_counts_dict['WIN'])),\n",
    "                      np.datetime64(max(game_counts_dict['WIN']) + month))\n",
    "\n",
    "for k,v in game_counts_dict.items():\n",
    "    x[k] = list(map(lambda x: x[1], dict_to_list(v)))\n",
    "\n",
    "bottom = np.zeros(len(x['DATE']))\n",
    "plt.figure(figsize=(12,9))\n",
    "for k,v in colors.items():\n",
    "    plt.bar(x['DATE'], x[k] ,label=k, width = 1, bottom = bottom,\n",
    "            color = v, align='edge', edgecolor='blue', linewidth=0.8)\n",
    "    bottom = x[k]+bottom\n",
    "\n",
    "v_lines = list(set([v for v in list(base_dict.keys())]))\n",
    "v_lines = list(filter(lambda x: x.astype(object).month == 1, v_lines))\n",
    "v_lines.append(add_months(np.datetime64(max(game_counts_dict['WIN'])),\n",
    "                          12 - np.datetime64(max(game_counts_dict['WIN'])).astype(object).month))\n",
    "\n",
    "for line in v_lines:\n",
    "    plt.axvline(line, color = 'darkcyan')\n",
    "plt.legend()\n",
    "plt.show()"
   ]
  },
  {
   "cell_type": "markdown",
   "metadata": {},
   "source": [
    "array (date, result)\n",
    "grouping by result\n",
    "grouping by date\n",
    "count"
   ]
  },
  {
   "cell_type": "code",
   "execution_count": null,
   "metadata": {},
   "outputs": [],
   "source": []
  }
 ],
 "metadata": {
  "kernelspec": {
   "display_name": "Python 3",
   "language": "python",
   "name": "python3"
  },
  "language_info": {
   "codemirror_mode": {
    "name": "ipython",
    "version": 3
   },
   "file_extension": ".py",
   "mimetype": "text/x-python",
   "name": "python",
   "nbconvert_exporter": "python",
   "pygments_lexer": "ipython3",
   "version": "3.6.9"
  }
 },
 "nbformat": 4,
 "nbformat_minor": 4
}
