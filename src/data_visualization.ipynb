{
 "cells": [
  {
   "cell_type": "code",
   "execution_count": null,
   "metadata": {},
   "outputs": [],
   "source": [
    "import lichess.api\n",
    "from pprint import pprint\n",
    "from datetime import datetime\n",
    "import os\n",
    "\n",
    "import matplotlib.pyplot as plt\n",
    "from matplotlib.ticker import FormatStrFormatter\n",
    "\n",
    "# working dir should be chessanalytics/src when the notebook starts\n",
    "while(not os.getcwd().endswith('chess-analytics')):\n",
    "    os.chdir('..')\n",
    "print('Working dir: ' + os.getcwd())\n",
    "\n",
    "name = 'carequinha'\n",
    "user = lichess.api.user(name)"
   ]
  },
  {
   "cell_type": "code",
   "execution_count": null,
   "metadata": {},
   "outputs": [],
   "source": [
    "# %reload_ext autoreload\n",
    "# %autoreload 2"
   ]
  },
  {
   "cell_type": "code",
   "execution_count": null,
   "metadata": {},
   "outputs": [],
   "source": [
    "from src.game import ChessGame\n",
    "from src.get_games import download_games\n",
    "# download_games('carequinha',\n",
    "#                         is_rated=True)\n",
    "# download games if they don't exist\n",
    "# games = load_games('resources/PGN_database')\n",
    "games = ChessGame.load_pgn_file('src/resources/carequinha.pgn')"
   ]
  },
  {
   "cell_type": "code",
   "execution_count": null,
   "metadata": {},
   "outputs": [],
   "source": [
    "i=5000\n",
    "print(len(games))\n",
    "\n",
    "print(games[i].__str__())\n",
    "print(games[i].result)\n",
    "print(games[i].get_result(name))\n",
    "print(list(map(lambda value: value.name, games[i].players.values())))\n",
    "\n",
    "a = games[i].moves\n",
    "\n",
    "print(a)\n",
    "print(a[0::2])\n",
    "print(games[i].clocks)"
   ]
  },
  {
   "cell_type": "code",
   "execution_count": null,
   "metadata": {},
   "outputs": [],
   "source": [
    "hours = list(map(lambda game: game.utctime.split(':')[0], games))\n",
    "data_list = list(map(lambda s: int(s), hours))\n",
    "list_set = set(data_list)\n",
    "list_set.add(max(list_set)+1)\n",
    "plt.hist(data_list, bins = list(list_set), edgecolor='blue')\n",
    "plt.show()"
   ]
  },
  {
   "cell_type": "code",
   "execution_count": null,
   "metadata": {},
   "outputs": [],
   "source": [
    "def get_result_list(game_list):\n",
    "    list_result = list(map(lambda game: game.get_result(name), game_list))\n",
    "    return {el: list_result.count(el) for el in set(list_result)}\n",
    "\n",
    "def parse_time(game):\n",
    "    year = game.date.split('.')[0]\n",
    "    month = game.date.split('.')[1]\n",
    "    return int(year) + int(month)/12\n",
    "\n",
    "def plot_histogram(data_list, bin_list = None, color = 'green'):\n",
    "    if bin_list == None:\n",
    "        bin_list = list(set(data_list))\n",
    "        bin_list.sort()\n",
    "        bin_list.append(2*bin_list[-1] - bin_list[-2])\n",
    "    vertical_lines = set([int(i) for i in bin_list])\n",
    "    plt.hist(data_list, bins = bin_list, edgecolor='blue', color=color)\n",
    "    for line in vertical_lines:\n",
    "        plt.axvline(x=line, color='green')\n",
    "    return None\n",
    "\n",
    "def accummulator_list(base_list):\n",
    "    accum_list = []\n",
    "    partial_list = []\n",
    "    for l in data_list:\n",
    "        accum_list = accum_list + l\n",
    "    partial_list.append(accum_list)\n",
    "    return partial_list\n",
    "    \n",
    "results = ['WIN','DRAW','LOSS']\n",
    "colors = ['green','orange','red']\n",
    "\n",
    "split_game_list = [list(filter(lambda game: game.get_result(name) == el, games)) for el in results]\n",
    "data_list = list(map(lambda game_list: list(map(lambda game: parse_time(game),game_list)),split_game_list))\n",
    "\n",
    "data = accummulator_list(data_list)\n",
    "\n",
    "grouped_plot_properties = [[x,y] for x,y in zip(partial_list, colors)]\n",
    "grouped_plot_properties.reverse()\n",
    "\n",
    "plt.figure(figsize=(8,6))\n",
    "for data, color in grouped_plot_properties:\n",
    "    plot_histogram(data, bin_list = None, color = color)\n",
    "plt.show()"
   ]
  },
  {
   "cell_type": "code",
   "execution_count": null,
   "metadata": {},
   "outputs": [],
   "source": [
    "from functools import reduce\n",
    "def split_list(pattern, base_list):\n",
    "    values = set([pattern(el) for el in base_list])\n",
    "    return [[y for y in base_list if pattern(y) == x]for x in values]\n",
    "\n",
    "def count(pattern, base_list):\n",
    "    splited_list = split_list((lambda game: pattern(game)), base_list)\n",
    "    return {pattern(sublist[0]): len(sublist) for sublist in splited_list}\n",
    "\n",
    "def proportion(a_list, b_list):\n",
    "    return [float(x)/float(y) for x,y in zip(a_list,b_list)]\n",
    "\n",
    "def merge_dict(pattern, dict1, dict2):\n",
    "    dict3 = {**dict1, **dict2}\n",
    "    for k, v in dict3.items():\n",
    "        if k in dict1 and k in dict2:\n",
    "            dict3[k] = pattern(dict1[k], dict2[k])\n",
    "            \n",
    "split_game_list = {el: list(filter(lambda game: game.get_result(name) == el, games)) for el in results}\n",
    "game_counts_list = {k: count(parse_time, l) for (k,l) in split_game_list.items()}\n",
    "\n",
    "print(game_counts_list)\n",
    "print(game_counts_list['WIN'])\n",
    "totals = list(reduce(lambda list_a,list_b : [x+y for x,y in zip(list_a,list_b)] ,game_counts_list))\n",
    "\n",
    "game_proportion_list = [proportion(l, totals) for l in game_counts_list]\n",
    "x_data_list = list(set([parse_time(el) for el in l]) for (k,l) in split_game_list.items())\n",
    "#print(game_proportion_list)\n",
    "#total_split_count = count(parse_time, games)\n",
    "#split_win_count = count(parse_time, list_won_games)\n",
    "#split_windraw_count = count(parse_time, list_wondraw_games)\n",
    "\n",
    "#total_proportion_list = proportion(split_count,split_count)\n",
    "#win_proportion_list = proportion(split_win_count,split_count)\n",
    "#windraw_proportion_list = proportion(split_windraw_count,split_count)\n",
    "print(len(x_data_list))\n",
    "for i in range(len(x_data_list)):\n",
    "    print(\"game_list length: \", len(game_proportion_list[i]))\n",
    "    print(\"x_data length: \", len(x_data_list[i]))\n",
    "plt.figure(figsize=(8,6))\n",
    "for lst, x_el in zip(game_proportion_list,x_data_list):\n",
    "    plt.bar(list(x_el), lst, width=1/12, color = 'red')\n",
    "#plt.bar(x_data, game_proportion_list[0], width=1/12, color = 'red')\n",
    "#plt.bar(x_data, windraw_proportion_list, width=1/12, color = 'orange')\n",
    "#plt.bar(x_data, win_proportion_list, width=1/12, color = 'green')\n",
    "plt.axhline(y=0.5, color='blue')\n",
    "plt.show()"
   ]
  },
  {
   "cell_type": "code",
   "execution_count": null,
   "metadata": {},
   "outputs": [],
   "source": [
    "import chess\n",
    "def print_board_at_move(move_list,\n",
    "                        move_num: int,\n",
    "                        player: str):\n",
    "#move_list = (games[1]['moves'].split())\n",
    "#move_num = 2\n",
    "#player = 'black'#'white'\n",
    "    board = chess.Board()\n",
    "    board.reset()\n",
    "    if player is 'white' or player is 'w':\n",
    "        player_move = 0\n",
    "    elif player is 'black' or player is 'b':\n",
    "        player_move = 1\n",
    "    else:\n",
    "        raise Exception('No proper input for player.')\n",
    "    for index in range(2*(move_num-1) + player_move):\n",
    "        move = move_list.pop(0)\n",
    "        board.push_san(move)\n",
    "    return board"
   ]
  },
  {
   "cell_type": "code",
   "execution_count": null,
   "metadata": {},
   "outputs": [],
   "source": [
    "board = print_board_at_move(move_list = (games[0].moves), move_num = 1, player = 'b')\n",
    "board"
   ]
  },
  {
   "cell_type": "code",
   "execution_count": null,
   "metadata": {},
   "outputs": [],
   "source": [
    "from matplotlib.pyplot import plot\n",
    "plot([0,1],[0,2])\n",
    "print(len(games))"
   ]
  },
  {
   "cell_type": "code",
   "execution_count": null,
   "metadata": {},
   "outputs": [],
   "source": []
  }
 ],
 "metadata": {
  "kernelspec": {
   "display_name": "Python 3",
   "language": "python",
   "name": "python3"
  },
  "language_info": {
   "codemirror_mode": {
    "name": "ipython",
    "version": 3
   },
   "file_extension": ".py",
   "mimetype": "text/x-python",
   "name": "python",
   "nbconvert_exporter": "python",
   "pygments_lexer": "ipython3",
   "version": "3.6.9"
  }
 },
 "nbformat": 4,
 "nbformat_minor": 4
}
