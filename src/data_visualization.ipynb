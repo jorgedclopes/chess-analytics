{
 "cells": [
  {
   "cell_type": "code",
   "execution_count": 1,
   "metadata": {},
   "outputs": [
    {
     "name": "stdout",
     "output_type": "stream",
     "text": [
      "Working dir: /home/jorge/GIT/chess-analytics\n"
     ]
    }
   ],
   "source": [
    "import lichess.api\n",
    "from pprint import pprint\n",
    "from datetime import datetime\n",
    "import os\n",
    "import chess\n",
    "\n",
    "import matplotlib.pyplot as plt\n",
    "from matplotlib.ticker import FormatStrFormatter\n",
    "\n",
    "# working dir should be chessanalytics/src when the notebook starts\n",
    "while(not os.getcwd().endswith('chess-analytics')):\n",
    "    os.chdir('..')\n",
    "print('Working dir: ' + os.getcwd())\n",
    "\n",
    "name = 'carequinha'\n",
    "user = lichess.api.user(name)"
   ]
  },
  {
   "cell_type": "code",
   "execution_count": 2,
   "metadata": {},
   "outputs": [],
   "source": [
    "# %reload_ext autoreload\n",
    "# %autoreload 2"
   ]
  },
  {
   "cell_type": "code",
   "execution_count": 3,
   "metadata": {},
   "outputs": [],
   "source": [
    "from src.game import ChessGame\n",
    "from src.get_games import download_games\n",
    "# download_games('carequinha',\n",
    "#                         is_rated=True)\n",
    "# download games if they don't exist\n",
    "# games = load_games('resources/PGN_database')\n",
    "games = ChessGame.load_pgn_file('src/resources/carequinha.pgn')"
   ]
  },
  {
   "cell_type": "code",
   "execution_count": 7,
   "metadata": {},
   "outputs": [
    {
     "name": "stdout",
     "output_type": "stream",
     "text": [
      "6376\n",
      "Standard game between carequinha (1877) and mattaiah (1712).\n",
      "This game's time control was 180+0 was played in 2019.07.19. The result was 0-1.\n",
      "The oppening code is D10 and the game had a length of 48 moves.\n",
      "0-1\n",
      "LOSS\n",
      "['carequinha', 'mattaiah']\n",
      "['d4', 'd5', 'c4', 'dxc4', 'Nc3', 'c6', 'a4', 'e5', 'dxe5', 'Qxd1+', 'Kxd1', 'a6', 'e4', 'Be6', 'Nf3', 'Nd7', 'Ng5', 'Nxe5', 'Nxe6', 'fxe6', 'f4', 'Ng4', 'Ke1', 'Bb4', 'Bxc4', 'Bxc3+', 'bxc3', 'N8f6', 'h3', 'Nh6', 'e5', 'Ne4', 'Bb2', 'O-O-O', 'Bxe6+', 'Kb8', 'g4', 'Rd3', 'Ba3', 'Rhd8', 'Be7', 'Re3+', 'Kf1', 'Rd2', 'Bd6+', 'Ka8', 'Rg1', 'Rf2#']\n",
      "[180.0, 180.0, 180.0, 179.0, 178.0, 178.0, 177.0, 175.0, 174.0, 173.0, 174.0, 167.0, 168.0, 164.0, 166.0, 159.0, 163.0, 155.0, 162.0, 154.0, 161.0, 148.0, 160.0, 135.0, 158.0, 132.0, 157.0, 126.0, 148.0, 114.0, 133.0, 113.0, 128.0, 110.0, 126.0, 108.0, 119.0, 95.0, 109.0, 92.0, 98.0, 90.0, 96.0, 87.0, 86.0, 82.0, 81.0, 78.0]\n"
     ]
    }
   ],
   "source": [
    "i=5000\n",
    "print(len(games))\n",
    "\n",
    "print(games[i].__str__())\n",
    "print(games[i].result)\n",
    "print(games[i].get_result(\"carequinha\"))\n",
    "print(list(map(lambda value: value.name, games[i].players.values())))\n",
    "\n",
    "a = games[i].moves\n",
    "\n",
    "print(a[0::2])\n",
    "print(games[i].get_clocks())"
   ]
  },
  {
   "cell_type": "code",
   "execution_count": null,
   "metadata": {},
   "outputs": [],
   "source": [
    "def print_board_at_move(move_list,\n",
    "                        move_num: int,\n",
    "                        player: str):\n",
    "#move_list = (games[1]['moves'].split())\n",
    "#move_num = 2\n",
    "#player = 'black'#'white'\n",
    "    board = chess.Board()\n",
    "    board.reset()\n",
    "    if player is 'white' or player is 'w':\n",
    "        player_move = 0\n",
    "    elif player is 'black' or player is 'b':\n",
    "        player_move = 1\n",
    "    else:\n",
    "        raise Exception('No proper input for player.')\n",
    "    for index in range(2*(move_num-1) + player_move):\n",
    "        move = move_list.pop(0)\n",
    "        board.push_san(move)\n",
    "    return board"
   ]
  },
  {
   "cell_type": "code",
   "execution_count": null,
   "metadata": {},
   "outputs": [],
   "source": [
    "board = print_board_at_move(move_list = (games[0].moves), move_num = 1, player = 'b')\n",
    "board"
   ]
  },
  {
   "cell_type": "code",
   "execution_count": null,
   "metadata": {},
   "outputs": [],
   "source": [
    "from matplotlib.pyplot import plot\n",
    "plot([0,1],[0,2])"
   ]
  },
  {
   "cell_type": "code",
   "execution_count": null,
   "metadata": {},
   "outputs": [],
   "source": [
    "games[0].utctime"
   ]
  }
 ],
 "metadata": {
  "kernelspec": {
   "display_name": "Python 3",
   "language": "python",
   "name": "python3"
  },
  "language_info": {
   "codemirror_mode": {
    "name": "ipython",
    "version": 3
   },
   "file_extension": ".py",
   "mimetype": "text/x-python",
   "name": "python",
   "nbconvert_exporter": "python",
   "pygments_lexer": "ipython3",
   "version": "3.6.9"
  }
 },
 "nbformat": 4,
 "nbformat_minor": 4
}
