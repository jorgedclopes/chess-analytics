{
 "cells": [
  {
   "cell_type": "code",
   "execution_count": 12,
   "metadata": {},
   "outputs": [
    {
     "name": "stdout",
     "output_type": "stream",
     "text": [
      "Working dir: /home/jorge/GIT/chess-analytics\n"
     ]
    }
   ],
   "source": [
    "import lichess.api\n",
    "from pprint import pprint\n",
    "from datetime import datetime\n",
    "import os\n",
    "import chess\n",
    "\n",
    "import matplotlib.pyplot as plt\n",
    "from matplotlib.ticker import FormatStrFormatter\n",
    "\n",
    "# working dir should be chessanalytics/src when the notebook starts\n",
    "while(not os.getcwd().endswith('chess-analytics')):\n",
    "    os.chdir('..')\n",
    "print('Working dir: ' + os.getcwd())\n",
    "\n",
    "name = 'carequinha'\n",
    "user = lichess.api.user(name)"
   ]
  },
  {
   "cell_type": "code",
   "execution_count": null,
   "metadata": {},
   "outputs": [],
   "source": [
    "# %reload_ext autoreload\n",
    "# %autoreload 2"
   ]
  },
  {
   "cell_type": "code",
   "execution_count": null,
   "metadata": {},
   "outputs": [],
   "source": [
    "from src.game import ChessGame\n",
    "from src.get_games import download_games\n",
    "download_games('carequinha',\n",
    "                        is_rated=True)\n",
    "# download games if they don't exist\n",
    "# games = load_games('resources/PGN_database')\n",
    "games = ChessGame.load_pgn_file('resources/carequinha.pgn')"
   ]
  },
  {
   "cell_type": "code",
   "execution_count": null,
   "metadata": {},
   "outputs": [],
   "source": [
    "i=10\n",
    "\n",
    "print(len(games))\n",
    "print(games[i].__str__())\n",
    "print(games[i].result)\n",
    "print(games[i].get_result())"
   ]
  },
  {
   "cell_type": "code",
   "execution_count": null,
   "metadata": {},
   "outputs": [],
   "source": [
    "def print_board_at_move(move_list,\n",
    "                        move_num: int,\n",
    "                        player: str):\n",
    "#move_list = (games[1]['moves'].split())\n",
    "#move_num = 2\n",
    "#player = 'black'#'white'\n",
    "    board = chess.Board()\n",
    "    board.reset()\n",
    "    if player is 'white' or player is 'w':\n",
    "        player_move = 0\n",
    "    elif player is 'black' or player is 'b':\n",
    "        player_move = 1\n",
    "    else:\n",
    "        raise Exception('No proper input for player.')\n",
    "    for index in range(2*(move_num-1) + player_move):\n",
    "        move = move_list.pop(0)\n",
    "        board.push_san(move)\n",
    "    return board"
   ]
  },
  {
   "cell_type": "code",
   "execution_count": null,
   "metadata": {},
   "outputs": [],
   "source": [
    "board = print_board_at_move(move_list = (games[0].moves), move_num = 1, player = 'b')\n",
    "board"
   ]
  },
  {
   "cell_type": "code",
   "execution_count": null,
   "metadata": {},
   "outputs": [],
   "source": [
    "from matplotlib.pyplot import plot\n",
    "plot([0,1],[0,2])"
   ]
  },
  {
   "cell_type": "code",
   "execution_count": null,
   "metadata": {},
   "outputs": [],
   "source": [
    "games[0].utctime"
   ]
  }
 ],
 "metadata": {
  "kernelspec": {
   "display_name": "Python 3",
   "language": "python",
   "name": "python3"
  },
  "language_info": {
   "codemirror_mode": {
    "name": "ipython",
    "version": 3
   },
   "file_extension": ".py",
   "mimetype": "text/x-python",
   "name": "python",
   "nbconvert_exporter": "python",
   "pygments_lexer": "ipython3",
   "version": "3.6.9"
  }
 },
 "nbformat": 4,
 "nbformat_minor": 4
}
